{
 "cells": [
  {
   "cell_type": "code",
   "execution_count": 1,
   "metadata": {},
   "outputs": [
    {
     "name": "stderr",
     "output_type": "stream",
     "text": [
      "C:\\ProgramData\\Anaconda3\\envs\\movie-sentiment-analysis\\lib\\importlib\\_bootstrap.py:219: RuntimeWarning: numpy.ufunc size changed, may indicate binary incompatibility. Expected 192 from C header, got 216 from PyObject\n",
      "  return f(*args, **kwds)\n",
      "C:\\ProgramData\\Anaconda3\\envs\\movie-sentiment-analysis\\lib\\importlib\\_bootstrap.py:219: RuntimeWarning: numpy.ufunc size changed, may indicate binary incompatibility. Expected 192 from C header, got 216 from PyObject\n",
      "  return f(*args, **kwds)\n"
     ]
    }
   ],
   "source": [
    "import pandas as pd\n",
    "import numpy as np\n",
    "from pathlib import Path\n",
    "import nltk\n",
    "from nltk.stem.porter import PorterStemmer\n",
    "from nltk.stem import WordNetLemmatizer\n",
    "import string\n",
    "from sklearn.metrics import accuracy_score, precision_score, recall_score\n",
    "from sklearn.naive_bayes import MultinomialNB, BernoulliNB\n",
    "from sklearn.feature_extraction.text import CountVectorizer, TfidfTransformer\n",
    "import gc\n",
    "import re\n",
    "from sklearn.pipeline import Pipeline\n",
    "from skopt import BayesSearchCV\n",
    "from sklearn.model_selection import GridSearchCV, StratifiedShuffleSplit, StratifiedKFold\n",
    "from joblib import dump, load\n",
    "import sys\n",
    "sys.path.append('../')\n",
    "from utils.visualization import plot_learning_curve\n",
    "import matplotlib.pyplot as plt"
   ]
  },
  {
   "cell_type": "code",
   "execution_count": 2,
   "metadata": {
    "scrolled": false
   },
   "outputs": [
    {
     "name": "stderr",
     "output_type": "stream",
     "text": [
      "[nltk_data] Downloading package punkt to\n",
      "[nltk_data]     C:\\Users\\automacao\\AppData\\Roaming\\nltk_data...\n",
      "[nltk_data]   Package punkt is already up-to-date!\n",
      "[nltk_data] Downloading package stopwords to\n",
      "[nltk_data]     C:\\Users\\automacao\\AppData\\Roaming\\nltk_data...\n",
      "[nltk_data]   Package stopwords is already up-to-date!\n",
      "[nltk_data] Downloading package wordnet to\n",
      "[nltk_data]     C:\\Users\\automacao\\AppData\\Roaming\\nltk_data...\n",
      "[nltk_data]   Package wordnet is already up-to-date!\n"
     ]
    },
    {
     "data": {
      "text/plain": [
       "True"
      ]
     },
     "execution_count": 2,
     "metadata": {},
     "output_type": "execute_result"
    }
   ],
   "source": [
    "nltk.download('punkt')\n",
    "nltk.download('stopwords')\n",
    "nltk.download('wordnet')"
   ]
  },
  {
   "cell_type": "markdown",
   "metadata": {},
   "source": [
    "We are going to use some approaches for sentiment analysis in order to study their performances."
   ]
  },
  {
   "cell_type": "markdown",
   "metadata": {},
   "source": [
    "# Dataset\n",
    "### Large Movie Review Dataset\n",
    "Downloaded from http://ai.stanford.edu/~amaas/data/sentiment/"
   ]
  },
  {
   "cell_type": "code",
   "execution_count": 3,
   "metadata": {},
   "outputs": [],
   "source": [
    "pos_train_raw_folder = (Path('..') / 'data' / 'aclImdb_v1/aclImdb/train/pos').resolve()\n",
    "neg_train_raw_folder = (Path('..') / 'data' / 'aclImdb_v1/aclImdb/train/neg').resolve()\n",
    "pos_test_raw_folder = (Path('..') / 'data' / 'aclImdb_v1/aclImdb/test/pos').resolve()\n",
    "neg_test_raw_folder = (Path('..') / 'data' / 'aclImdb_v1/aclImdb/test/neg').resolve()\n",
    "\n",
    "#Read train data:\n",
    "pos_train_raw = list()\n",
    "for file in pos_train_raw_folder.iterdir():\n",
    "    with open(file, 'r', encoding='utf-8') as f:\n",
    "        pos_train_raw.append(f.read())\n",
    "neg_train_raw = list()\n",
    "for file in neg_train_raw_folder.iterdir():\n",
    "    with open(file, 'r', encoding='utf-8') as f:\n",
    "        neg_train_raw.append(f.read())\n",
    "\n",
    "#Read test data:\n",
    "pos_test_raw = list()\n",
    "for file in pos_test_raw_folder.iterdir():\n",
    "    with open(file, 'r', encoding='utf-8') as f:\n",
    "        pos_test_raw.append(f.read())\n",
    "\n",
    "neg_test_raw = list()\n",
    "for file in neg_test_raw_folder.iterdir():\n",
    "    with open(file, 'r', encoding='utf-8') as f:\n",
    "        neg_test_raw.append(f.read())"
   ]
  },
  {
   "cell_type": "markdown",
   "metadata": {},
   "source": [
    "# Summary\n",
    "\n",
    "- [Bag of Words (word **occurrences**)](#approach1):\n",
    "    - Sklearn CountVectorizer (NLTK stopwords) -> Multinomial Naive Bayes\n",
    "    - [Result](#approach1_result)\n",
    "    \n",
    "    \n",
    "- [Bag of Words (word **counts**)](#approach2):\n",
    "    - Sklearn CountVectorizer (NLTK stopwords) -> Multinomial Naive Bayes\n",
    "    - [Result](#approach2_result)\n",
    "    \n",
    "    \n",
    "- [Bag of Words (word **frequencies** -> TF)](#approach3):\n",
    "    - Sklearn CountVectorizer (NLTK stopwords) -> TfidfTransformer (**without IDF**) -> Multinomial Naive Bayes\n",
    "    - [Result](#approach3_result)\n",
    "    \n",
    "\n",
    "- [Bag of Words (word **frequencies** -> TF + IDF)](#approach4):\n",
    "    - Sklearn CountVectorizer (NLTK stopwords) -> TfidfTransformer (**with IDF**) -> Multinomial Naive Bayes\n",
    "    - [Result](#approach4_result)\n",
    "\n",
    "\n",
    "- [Bag of Words (word **frequencies** -> TF + IDF)](#approach5):\n",
    "    - Sklearn CountVectorizer (NLTK stopwords + min/maxdf) -> TfidfTransformer (**with IDF**) -> Multinomial Naive Bayes\n",
    "    - [Result](#approach5_result)\n",
    "\n",
    "\n",
    "- [Bag of Words (word **frequencies** -> TF + IDF + 2-grams)](#approach6):\n",
    "    - Sklearn CountVectorizer (NLTK stopwords + min/maxdf + 2-grams) -> TfidfTransformer (**with IDF**) -> Multinomial Naive Bayes\n",
    "    - [Result](#approach6_result)\n",
    "\n",
    "\n",
    "- [Bag of Words (word **occurrences**)](#approach7):\n",
    "    - Sklearn CountVectorizer (NLTK stopwords) -> Bernoulli Naive Bayes\n",
    "    - [Result](#approach7_result)\n",
    "\n",
    "\n",
    "- [Model Selection with GridSearchCV](#gridsearch)\n",
    "\n",
    "\n",
    "- [Study - number of samples](#numbersamples)"
   ]
  },
  {
   "cell_type": "markdown",
   "metadata": {},
   "source": [
    "TODO - approaches:\n",
    "- Add study of positive/negative words\n",
    "- Results visualization"
   ]
  },
  {
   "cell_type": "markdown",
   "metadata": {},
   "source": [
    "<a id='approach1'></a>\n",
    "## Bag Of Words (word occurrences)\n",
    "Sklearn CountVectorizer (NLTK stopwords) -> Multinomial Naive Bayes"
   ]
  },
  {
   "cell_type": "code",
   "execution_count": 25,
   "metadata": {},
   "outputs": [
    {
     "data": {
      "text/plain": [
       "Pipeline(steps=[('countvec',\n",
       "                 CountVectorizer(binary=True,\n",
       "                                 stop_words=['i', 'me', 'my', 'myself', 'we',\n",
       "                                             'our', 'ours', 'ourselves', 'you',\n",
       "                                             \"you're\", \"you've\", \"you'll\",\n",
       "                                             \"you'd\", 'your', 'yours',\n",
       "                                             'yourself', 'yourselves', 'he',\n",
       "                                             'him', 'his', 'himself', 'she',\n",
       "                                             \"she's\", 'her', 'hers', 'herself',\n",
       "                                             'it', \"it's\", 'its', 'itself', ...])),\n",
       "                ('naivebayes', MultinomialNB())])"
      ]
     },
     "execution_count": 25,
     "metadata": {},
     "output_type": "execute_result"
    }
   ],
   "source": [
    "word_occur = True\n",
    "\n",
    "pipe = Pipeline([\n",
    "    ('countvec', CountVectorizer(stop_words=nltk.corpus.stopwords.words('english'), binary=word_occur)),\n",
    "    ('naivebayes', MultinomialNB())\n",
    "])\n",
    "\n",
    "#Prepare train labels:\n",
    "n_pos_samples_train = len(pos_train_raw)\n",
    "n_neg_samples_train = len(neg_train_raw)\n",
    "y_train = np.concatenate((np.ones((n_pos_samples_train)), np.zeros((n_neg_samples_train))))\n",
    "\n",
    "pipe.fit(pos_train_raw + neg_train_raw, y_train)"
   ]
  },
  {
   "cell_type": "markdown",
   "metadata": {},
   "source": [
    "<a id='approach1_result'></a>\n",
    "#### Result"
   ]
  },
  {
   "cell_type": "code",
   "execution_count": 26,
   "metadata": {},
   "outputs": [
    {
     "name": "stdout",
     "output_type": "stream",
     "text": [
      "Precision: 0.872\n",
      "Recall: 0.7862\n",
      "Accuracy: 0.8354\n"
     ]
    }
   ],
   "source": [
    "#Prepare test labels:\n",
    "n_pos_samples_test = len(pos_test_raw)\n",
    "n_neg_samples_test = len(neg_test_raw)\n",
    "y_test = np.concatenate((np.ones((n_pos_samples_test)), np.zeros((n_neg_samples_test))))\n",
    "y_pred = pipe.predict(pos_test_raw + neg_test_raw)\n",
    "\n",
    "print('Precision: {}'.format(np.round(precision_score(y_test, y_pred), decimals=4)))\n",
    "print('Recall: {}'.format(np.round(recall_score(y_test, y_pred), decimals=4)))\n",
    "print('Accuracy: {}'.format(np.round(accuracy_score(y_test, y_pred), decimals=4)))\n",
    "\n",
    "#Generate list of results for visual comparison:\n",
    "results = list()\n",
    "results.append({\n",
    "    'precision': precision_score(y_test, y_pred),\n",
    "    'recall': recall_score(y_test, y_pred),\n",
    "    'accuracy': accuracy_score(y_test, y_pred)\n",
    "})"
   ]
  },
  {
   "cell_type": "markdown",
   "metadata": {},
   "source": [
    "<a id='approach2'></a>\n",
    "## Bag Of Words (word counts)\n",
    "Sklearn CountVectorizer (NLTK stopwords) -> Multinomial Naive Bayes"
   ]
  },
  {
   "cell_type": "code",
   "execution_count": 27,
   "metadata": {},
   "outputs": [
    {
     "data": {
      "text/plain": [
       "Pipeline(steps=[('countvec',\n",
       "                 CountVectorizer(stop_words=['i', 'me', 'my', 'myself', 'we',\n",
       "                                             'our', 'ours', 'ourselves', 'you',\n",
       "                                             \"you're\", \"you've\", \"you'll\",\n",
       "                                             \"you'd\", 'your', 'yours',\n",
       "                                             'yourself', 'yourselves', 'he',\n",
       "                                             'him', 'his', 'himself', 'she',\n",
       "                                             \"she's\", 'her', 'hers', 'herself',\n",
       "                                             'it', \"it's\", 'its', 'itself', ...])),\n",
       "                ('naivebayes', MultinomialNB())])"
      ]
     },
     "execution_count": 27,
     "metadata": {},
     "output_type": "execute_result"
    }
   ],
   "source": [
    "word_occur = False\n",
    "\n",
    "pipe = Pipeline([\n",
    "    ('countvec', CountVectorizer(stop_words=nltk.corpus.stopwords.words('english'), binary=word_occur)),\n",
    "    ('naivebayes', MultinomialNB())\n",
    "])\n",
    "\n",
    "#Prepare train labels:\n",
    "n_pos_samples_train = len(pos_train_raw)\n",
    "n_neg_samples_train = len(neg_train_raw)\n",
    "y_train = np.concatenate((np.ones((n_pos_samples_train)), np.zeros((n_neg_samples_train))))\n",
    "\n",
    "pipe.fit(pos_train_raw + neg_train_raw, y_train)"
   ]
  },
  {
   "cell_type": "markdown",
   "metadata": {},
   "source": [
    "<a id='approach2_result'></a>\n",
    "#### Result"
   ]
  },
  {
   "cell_type": "code",
   "execution_count": 28,
   "metadata": {},
   "outputs": [
    {
     "name": "stdout",
     "output_type": "stream",
     "text": [
      "Precision: 0.866\n",
      "Recall: 0.7665\n",
      "Accuracy: 0.8239\n"
     ]
    }
   ],
   "source": [
    "#Prepare test labels:\n",
    "n_pos_samples_test = len(pos_test_raw)\n",
    "n_neg_samples_test = len(neg_test_raw)\n",
    "y_test = np.concatenate((np.ones((n_pos_samples_test)), np.zeros((n_neg_samples_test))))\n",
    "y_pred = pipe.predict(pos_test_raw + neg_test_raw)\n",
    "\n",
    "print('Precision: {}'.format(np.round(precision_score(y_test, y_pred), decimals=4)))\n",
    "print('Recall: {}'.format(np.round(recall_score(y_test, y_pred), decimals=4)))\n",
    "print('Accuracy: {}'.format(np.round(accuracy_score(y_test, y_pred), decimals=4)))\n",
    "\n",
    "results.append({\n",
    "    'precision': precision_score(y_test, y_pred),\n",
    "    'recall': recall_score(y_test, y_pred),\n",
    "    'accuracy': accuracy_score(y_test, y_pred)\n",
    "})"
   ]
  },
  {
   "cell_type": "markdown",
   "metadata": {},
   "source": [
    "<a id='approach3'></a>\n",
    "## Bag Of Words (word frequencies -> TF)\n",
    "Sklearn CountVectorizer (NLTK stopwords) -> TfidfTransformer (without IDF) -> Multinomial Naive Bayes"
   ]
  },
  {
   "cell_type": "code",
   "execution_count": 29,
   "metadata": {},
   "outputs": [
    {
     "data": {
      "text/plain": [
       "Pipeline(steps=[('countvec',\n",
       "                 CountVectorizer(stop_words=['i', 'me', 'my', 'myself', 'we',\n",
       "                                             'our', 'ours', 'ourselves', 'you',\n",
       "                                             \"you're\", \"you've\", \"you'll\",\n",
       "                                             \"you'd\", 'your', 'yours',\n",
       "                                             'yourself', 'yourselves', 'he',\n",
       "                                             'him', 'his', 'himself', 'she',\n",
       "                                             \"she's\", 'her', 'hers', 'herself',\n",
       "                                             'it', \"it's\", 'its', 'itself', ...])),\n",
       "                ('tfidf', TfidfTransformer(use_idf=False)),\n",
       "                ('naivebayes', MultinomialNB())])"
      ]
     },
     "execution_count": 29,
     "metadata": {},
     "output_type": "execute_result"
    }
   ],
   "source": [
    "word_occur = False\n",
    "use_idf = False\n",
    "\n",
    "pipe = Pipeline([\n",
    "    ('countvec', CountVectorizer(stop_words=nltk.corpus.stopwords.words('english'), binary=word_occur)),\n",
    "    ('tfidf', TfidfTransformer(use_idf=use_idf)),\n",
    "    ('naivebayes', MultinomialNB())\n",
    "])\n",
    "\n",
    "#Prepare train labels:\n",
    "n_pos_samples_train = len(pos_train_raw)\n",
    "n_neg_samples_train = len(neg_train_raw)\n",
    "y_train = np.concatenate((np.ones((n_pos_samples_train)), np.zeros((n_neg_samples_train))))\n",
    "\n",
    "pipe.fit(pos_train_raw + neg_train_raw, y_train)"
   ]
  },
  {
   "cell_type": "markdown",
   "metadata": {},
   "source": [
    "<a id='approach3_result'></a>\n",
    "#### Result"
   ]
  },
  {
   "cell_type": "code",
   "execution_count": 30,
   "metadata": {},
   "outputs": [
    {
     "name": "stdout",
     "output_type": "stream",
     "text": [
      "Precision: 0.876\n",
      "Recall: 0.8134\n",
      "Accuracy: 0.8492\n"
     ]
    }
   ],
   "source": [
    "#Prepare test labels:\n",
    "n_pos_samples_test = len(pos_test_raw)\n",
    "n_neg_samples_test = len(neg_test_raw)\n",
    "y_test = np.concatenate((np.ones((n_pos_samples_test)), np.zeros((n_neg_samples_test))))\n",
    "y_pred = pipe.predict(pos_test_raw + neg_test_raw)\n",
    "\n",
    "print('Precision: {}'.format(np.round(precision_score(y_test, y_pred), decimals=4)))\n",
    "print('Recall: {}'.format(np.round(recall_score(y_test, y_pred), decimals=4)))\n",
    "print('Accuracy: {}'.format(np.round(accuracy_score(y_test, y_pred), decimals=4)))\n",
    "\n",
    "results.append({\n",
    "    'precision': precision_score(y_test, y_pred),\n",
    "    'recall': recall_score(y_test, y_pred),\n",
    "    'accuracy': accuracy_score(y_test, y_pred)\n",
    "})"
   ]
  },
  {
   "cell_type": "markdown",
   "metadata": {},
   "source": [
    "<a id='approach4'></a>\n",
    "## Bag Of Words (word frequencies -> TF + IDF)\n",
    "Sklearn CountVectorizer (NLTK stopwords) -> TfidfTransformer (with IDF) -> Multinomial Naive Bayes"
   ]
  },
  {
   "cell_type": "code",
   "execution_count": 31,
   "metadata": {},
   "outputs": [
    {
     "data": {
      "text/plain": [
       "Pipeline(steps=[('countvec',\n",
       "                 CountVectorizer(stop_words=['i', 'me', 'my', 'myself', 'we',\n",
       "                                             'our', 'ours', 'ourselves', 'you',\n",
       "                                             \"you're\", \"you've\", \"you'll\",\n",
       "                                             \"you'd\", 'your', 'yours',\n",
       "                                             'yourself', 'yourselves', 'he',\n",
       "                                             'him', 'his', 'himself', 'she',\n",
       "                                             \"she's\", 'her', 'hers', 'herself',\n",
       "                                             'it', \"it's\", 'its', 'itself', ...])),\n",
       "                ('tfidf', TfidfTransformer()),\n",
       "                ('naivebayes', MultinomialNB())])"
      ]
     },
     "execution_count": 31,
     "metadata": {},
     "output_type": "execute_result"
    }
   ],
   "source": [
    "word_occur = False\n",
    "use_idf = True\n",
    "\n",
    "pipe = Pipeline([\n",
    "    ('countvec', CountVectorizer(stop_words=nltk.corpus.stopwords.words('english'), binary=word_occur)),\n",
    "    ('tfidf', TfidfTransformer(use_idf=use_idf)),\n",
    "    ('naivebayes', MultinomialNB())\n",
    "])\n",
    "\n",
    "#Prepare train labels:\n",
    "n_pos_samples_train = len(pos_train_raw)\n",
    "n_neg_samples_train = len(neg_train_raw)\n",
    "y_train = np.concatenate((np.ones((n_pos_samples_train)), np.zeros((n_neg_samples_train))))\n",
    "\n",
    "pipe.fit(pos_train_raw + neg_train_raw, y_train)"
   ]
  },
  {
   "cell_type": "markdown",
   "metadata": {},
   "source": [
    "<a id='approach4_result'></a>\n",
    "#### Result"
   ]
  },
  {
   "cell_type": "code",
   "execution_count": 32,
   "metadata": {},
   "outputs": [
    {
     "name": "stdout",
     "output_type": "stream",
     "text": [
      "Precision: 0.8687\n",
      "Recall: 0.7875\n",
      "Accuracy: 0.8342\n"
     ]
    }
   ],
   "source": [
    "#Prepare test labels:\n",
    "n_pos_samples_test = len(pos_test_raw)\n",
    "n_neg_samples_test = len(neg_test_raw)\n",
    "y_test = np.concatenate((np.ones((n_pos_samples_test)), np.zeros((n_neg_samples_test))))\n",
    "y_pred = pipe.predict(pos_test_raw + neg_test_raw)\n",
    "\n",
    "print('Precision: {}'.format(np.round(precision_score(y_test, y_pred), decimals=4)))\n",
    "print('Recall: {}'.format(np.round(recall_score(y_test, y_pred), decimals=4)))\n",
    "print('Accuracy: {}'.format(np.round(accuracy_score(y_test, y_pred), decimals=4)))\n",
    "\n",
    "results.append({\n",
    "    'precision': precision_score(y_test, y_pred),\n",
    "    'recall': recall_score(y_test, y_pred),\n",
    "    'accuracy': accuracy_score(y_test, y_pred)\n",
    "})"
   ]
  },
  {
   "cell_type": "markdown",
   "metadata": {},
   "source": [
    "<a id='approach5'></a>\n",
    "## Bag Of Words (word frequencies -> TF + IDF)\n",
    "Sklearn CountVectorizer (NLTK stopwords + min/maxdf) -> TfidfTransformer (with IDF) -> Multinomial Naive Bayes"
   ]
  },
  {
   "cell_type": "code",
   "execution_count": 33,
   "metadata": {},
   "outputs": [
    {
     "data": {
      "text/plain": [
       "Pipeline(steps=[('countvec',\n",
       "                 CountVectorizer(max_df=0.98, min_df=0.003,\n",
       "                                 stop_words=['i', 'me', 'my', 'myself', 'we',\n",
       "                                             'our', 'ours', 'ourselves', 'you',\n",
       "                                             \"you're\", \"you've\", \"you'll\",\n",
       "                                             \"you'd\", 'your', 'yours',\n",
       "                                             'yourself', 'yourselves', 'he',\n",
       "                                             'him', 'his', 'himself', 'she',\n",
       "                                             \"she's\", 'her', 'hers', 'herself',\n",
       "                                             'it', \"it's\", 'its', 'itself', ...])),\n",
       "                ('tfidf', TfidfTransformer()),\n",
       "                ('naivebayes', MultinomialNB())])"
      ]
     },
     "execution_count": 33,
     "metadata": {},
     "output_type": "execute_result"
    }
   ],
   "source": [
    "word_occur = False\n",
    "use_idf = True\n",
    "min_df=0.003\n",
    "max_df=0.98\n",
    "\n",
    "pipe = Pipeline([\n",
    "    ('countvec', CountVectorizer(stop_words=nltk.corpus.stopwords.words('english'), binary=word_occur, min_df=min_df, max_df=max_df)),\n",
    "    ('tfidf', TfidfTransformer(use_idf=use_idf)),\n",
    "    ('naivebayes', MultinomialNB())\n",
    "])\n",
    "\n",
    "#Prepare train labels:\n",
    "n_pos_samples_train = len(pos_train_raw)\n",
    "n_neg_samples_train = len(neg_train_raw)\n",
    "y_train = np.concatenate((np.ones((n_pos_samples_train)), np.zeros((n_neg_samples_train))))\n",
    "\n",
    "pipe.fit(pos_train_raw + neg_train_raw, y_train)"
   ]
  },
  {
   "cell_type": "markdown",
   "metadata": {},
   "source": [
    "<a id='approach5_result'></a>\n",
    "#### Result"
   ]
  },
  {
   "cell_type": "code",
   "execution_count": 34,
   "metadata": {},
   "outputs": [
    {
     "name": "stdout",
     "output_type": "stream",
     "text": [
      "Precision: 0.855\n",
      "Recall: 0.8408\n",
      "Accuracy: 0.8491\n"
     ]
    }
   ],
   "source": [
    "#Prepare test labels:\n",
    "n_pos_samples_test = len(pos_test_raw)\n",
    "n_neg_samples_test = len(neg_test_raw)\n",
    "y_test = np.concatenate((np.ones((n_pos_samples_test)), np.zeros((n_neg_samples_test))))\n",
    "y_pred = pipe.predict(pos_test_raw + neg_test_raw)\n",
    "\n",
    "print('Precision: {}'.format(np.round(precision_score(y_test, y_pred), decimals=4)))\n",
    "print('Recall: {}'.format(np.round(recall_score(y_test, y_pred), decimals=4)))\n",
    "print('Accuracy: {}'.format(np.round(accuracy_score(y_test, y_pred), decimals=4)))\n",
    "\n",
    "results.append({\n",
    "    'precision': precision_score(y_test, y_pred),\n",
    "    'recall': recall_score(y_test, y_pred),\n",
    "    'accuracy': accuracy_score(y_test, y_pred)\n",
    "})"
   ]
  },
  {
   "cell_type": "markdown",
   "metadata": {},
   "source": [
    "<a id='approach6'></a>\n",
    "## Bag Of Words (word frequencies -> TF + IDF)\n",
    "Sklearn CountVectorizer (NLTK stopwords + min/maxdf + 2-grams) -> TfidfTransformer (with IDF) -> Multinomial Naive Bayes"
   ]
  },
  {
   "cell_type": "code",
   "execution_count": 35,
   "metadata": {},
   "outputs": [
    {
     "data": {
      "text/plain": [
       "Pipeline(steps=[('countvec',\n",
       "                 CountVectorizer(max_df=0.98, min_df=0.003, ngram_range=(1, 2),\n",
       "                                 stop_words=['i', 'me', 'my', 'myself', 'we',\n",
       "                                             'our', 'ours', 'ourselves', 'you',\n",
       "                                             \"you're\", \"you've\", \"you'll\",\n",
       "                                             \"you'd\", 'your', 'yours',\n",
       "                                             'yourself', 'yourselves', 'he',\n",
       "                                             'him', 'his', 'himself', 'she',\n",
       "                                             \"she's\", 'her', 'hers', 'herself',\n",
       "                                             'it', \"it's\", 'its', 'itself', ...])),\n",
       "                ('tfidf', TfidfTransformer()),\n",
       "                ('naivebayes', MultinomialNB())])"
      ]
     },
     "execution_count": 35,
     "metadata": {},
     "output_type": "execute_result"
    }
   ],
   "source": [
    "word_occur = False\n",
    "use_idf = True\n",
    "min_df=0.003\n",
    "max_df=0.98\n",
    "ngram_range = (1, 2)\n",
    "\n",
    "pipe = Pipeline([\n",
    "    ('countvec', CountVectorizer(stop_words=nltk.corpus.stopwords.words('english'), binary=word_occur, min_df=min_df, max_df=max_df, ngram_range=ngram_range)),\n",
    "    ('tfidf', TfidfTransformer(use_idf=use_idf)),\n",
    "    ('naivebayes', MultinomialNB())\n",
    "])\n",
    "\n",
    "#Prepare train labels:\n",
    "n_pos_samples_train = len(pos_train_raw)\n",
    "n_neg_samples_train = len(neg_train_raw)\n",
    "y_train = np.concatenate((np.ones((n_pos_samples_train)), np.zeros((n_neg_samples_train))))\n",
    "\n",
    "pipe.fit(pos_train_raw + neg_train_raw, y_train)"
   ]
  },
  {
   "cell_type": "markdown",
   "metadata": {},
   "source": [
    "<a id='approach6_result'></a>\n",
    "#### Result"
   ]
  },
  {
   "cell_type": "code",
   "execution_count": 36,
   "metadata": {},
   "outputs": [
    {
     "name": "stdout",
     "output_type": "stream",
     "text": [
      "Precision: 0.8551\n",
      "Recall: 0.8612\n",
      "Accuracy: 0.8576\n"
     ]
    }
   ],
   "source": [
    "#Prepare test labels:\n",
    "n_pos_samples_test = len(pos_test_raw)\n",
    "n_neg_samples_test = len(neg_test_raw)\n",
    "y_test = np.concatenate((np.ones((n_pos_samples_test)), np.zeros((n_neg_samples_test))))\n",
    "y_pred = pipe.predict(pos_test_raw + neg_test_raw)\n",
    "\n",
    "print('Precision: {}'.format(np.round(precision_score(y_test, y_pred), decimals=4)))\n",
    "print('Recall: {}'.format(np.round(recall_score(y_test, y_pred), decimals=4)))\n",
    "print('Accuracy: {}'.format(np.round(accuracy_score(y_test, y_pred), decimals=4)))\n",
    "\n",
    "results.append({\n",
    "    'precision': precision_score(y_test, y_pred),\n",
    "    'recall': recall_score(y_test, y_pred),\n",
    "    'accuracy': accuracy_score(y_test, y_pred)\n",
    "})"
   ]
  },
  {
   "cell_type": "markdown",
   "metadata": {},
   "source": [
    "<a id='approach7'></a>\n",
    "## Bag Of Words (word occurrences)\n",
    "Sklearn CountVectorizer (NLTK stopwords) -> Bernoullli Naive Bayes"
   ]
  },
  {
   "cell_type": "code",
   "execution_count": 37,
   "metadata": {},
   "outputs": [
    {
     "data": {
      "text/plain": [
       "Pipeline(steps=[('countvec',\n",
       "                 CountVectorizer(binary=True,\n",
       "                                 stop_words=['i', 'me', 'my', 'myself', 'we',\n",
       "                                             'our', 'ours', 'ourselves', 'you',\n",
       "                                             \"you're\", \"you've\", \"you'll\",\n",
       "                                             \"you'd\", 'your', 'yours',\n",
       "                                             'yourself', 'yourselves', 'he',\n",
       "                                             'him', 'his', 'himself', 'she',\n",
       "                                             \"she's\", 'her', 'hers', 'herself',\n",
       "                                             'it', \"it's\", 'its', 'itself', ...])),\n",
       "                ('naivebayes', BernoulliNB())])"
      ]
     },
     "execution_count": 37,
     "metadata": {},
     "output_type": "execute_result"
    }
   ],
   "source": [
    "word_occur = True\n",
    "\n",
    "pipe = Pipeline([\n",
    "    ('countvec', CountVectorizer(stop_words=nltk.corpus.stopwords.words('english'), binary=word_occur)),\n",
    "    ('naivebayes', BernoulliNB())\n",
    "])\n",
    "\n",
    "#Prepare train labels:\n",
    "n_pos_samples_train = len(pos_train_raw)\n",
    "n_neg_samples_train = len(neg_train_raw)\n",
    "y_train = np.concatenate((np.ones((n_pos_samples_train)), np.zeros((n_neg_samples_train))))\n",
    "\n",
    "pipe.fit(pos_train_raw + neg_train_raw, y_train)"
   ]
  },
  {
   "cell_type": "markdown",
   "metadata": {},
   "source": [
    "<a id='approach7_result'></a>\n",
    "#### Result"
   ]
  },
  {
   "cell_type": "code",
   "execution_count": 38,
   "metadata": {},
   "outputs": [
    {
     "name": "stdout",
     "output_type": "stream",
     "text": [
      "Precision: 0.8734\n",
      "Recall: 0.7442\n",
      "Accuracy: 0.8182\n"
     ]
    }
   ],
   "source": [
    "#Prepare test labels:\n",
    "n_pos_samples_test = len(pos_test_raw)\n",
    "n_neg_samples_test = len(neg_test_raw)\n",
    "y_test = np.concatenate((np.ones((n_pos_samples_test)), np.zeros((n_neg_samples_test))))\n",
    "y_pred = pipe.predict(pos_test_raw + neg_test_raw)\n",
    "\n",
    "print('Precision: {}'.format(np.round(precision_score(y_test, y_pred), decimals=4)))\n",
    "print('Recall: {}'.format(np.round(recall_score(y_test, y_pred), decimals=4)))\n",
    "print('Accuracy: {}'.format(np.round(accuracy_score(y_test, y_pred), decimals=4)))\n",
    "\n",
    "results.append({\n",
    "    'precision': precision_score(y_test, y_pred),\n",
    "    'recall': recall_score(y_test, y_pred),\n",
    "    'accuracy': accuracy_score(y_test, y_pred)\n",
    "})"
   ]
  },
  {
   "cell_type": "markdown",
   "metadata": {},
   "source": [
    "Results from all models:"
   ]
  },
  {
   "cell_type": "code",
   "execution_count": 39,
   "metadata": {},
   "outputs": [
    {
     "data": {
      "text/plain": [
       "[{'precision': 0.8719723183391004, 'recall': 0.78624, 'accuracy': 0.8354},\n",
       " {'precision': 0.8659616775126536, 'recall': 0.76648, 'accuracy': 0.82392},\n",
       " {'precision': 0.8760230895149479, 'recall': 0.81344, 'accuracy': 0.84916},\n",
       " {'precision': 0.8686904341687257, 'recall': 0.78752, 'accuracy': 0.83424},\n",
       " {'precision': 0.8549581062393232, 'recall': 0.8408, 'accuracy': 0.84908},\n",
       " {'precision': 0.8551116053697673, 'recall': 0.8612, 'accuracy': 0.85764},\n",
       " {'precision': 0.8734391136982443, 'recall': 0.74424, 'accuracy': 0.8182}]"
      ]
     },
     "execution_count": 39,
     "metadata": {},
     "output_type": "execute_result"
    }
   ],
   "source": [
    "results"
   ]
  },
  {
   "cell_type": "code",
   "execution_count": 40,
   "metadata": {},
   "outputs": [],
   "source": [
    "data = pd.DataFrame(results)"
   ]
  },
  {
   "cell_type": "code",
   "execution_count": 41,
   "metadata": {},
   "outputs": [
    {
     "data": {
      "text/html": [
       "<div>\n",
       "<style scoped>\n",
       "    .dataframe tbody tr th:only-of-type {\n",
       "        vertical-align: middle;\n",
       "    }\n",
       "\n",
       "    .dataframe tbody tr th {\n",
       "        vertical-align: top;\n",
       "    }\n",
       "\n",
       "    .dataframe thead th {\n",
       "        text-align: right;\n",
       "    }\n",
       "</style>\n",
       "<table border=\"1\" class=\"dataframe\">\n",
       "  <thead>\n",
       "    <tr style=\"text-align: right;\">\n",
       "      <th></th>\n",
       "      <th>precision</th>\n",
       "      <th>recall</th>\n",
       "      <th>accuracy</th>\n",
       "    </tr>\n",
       "  </thead>\n",
       "  <tbody>\n",
       "    <tr>\n",
       "      <th>0</th>\n",
       "      <td>0.871972</td>\n",
       "      <td>0.78624</td>\n",
       "      <td>0.83540</td>\n",
       "    </tr>\n",
       "    <tr>\n",
       "      <th>1</th>\n",
       "      <td>0.865962</td>\n",
       "      <td>0.76648</td>\n",
       "      <td>0.82392</td>\n",
       "    </tr>\n",
       "    <tr>\n",
       "      <th>2</th>\n",
       "      <td>0.876023</td>\n",
       "      <td>0.81344</td>\n",
       "      <td>0.84916</td>\n",
       "    </tr>\n",
       "    <tr>\n",
       "      <th>3</th>\n",
       "      <td>0.868690</td>\n",
       "      <td>0.78752</td>\n",
       "      <td>0.83424</td>\n",
       "    </tr>\n",
       "    <tr>\n",
       "      <th>4</th>\n",
       "      <td>0.854958</td>\n",
       "      <td>0.84080</td>\n",
       "      <td>0.84908</td>\n",
       "    </tr>\n",
       "    <tr>\n",
       "      <th>5</th>\n",
       "      <td>0.855112</td>\n",
       "      <td>0.86120</td>\n",
       "      <td>0.85764</td>\n",
       "    </tr>\n",
       "    <tr>\n",
       "      <th>6</th>\n",
       "      <td>0.873439</td>\n",
       "      <td>0.74424</td>\n",
       "      <td>0.81820</td>\n",
       "    </tr>\n",
       "  </tbody>\n",
       "</table>\n",
       "</div>"
      ],
      "text/plain": [
       "   precision   recall  accuracy\n",
       "0   0.871972  0.78624   0.83540\n",
       "1   0.865962  0.76648   0.82392\n",
       "2   0.876023  0.81344   0.84916\n",
       "3   0.868690  0.78752   0.83424\n",
       "4   0.854958  0.84080   0.84908\n",
       "5   0.855112  0.86120   0.85764\n",
       "6   0.873439  0.74424   0.81820"
      ]
     },
     "execution_count": 41,
     "metadata": {},
     "output_type": "execute_result"
    }
   ],
   "source": [
    "data"
   ]
  },
  {
   "cell_type": "markdown",
   "metadata": {},
   "source": [
    "<a id='gridsearch'></a>\n",
    "## Model Selection with GridSearchCV"
   ]
  },
  {
   "cell_type": "code",
   "execution_count": 8,
   "metadata": {},
   "outputs": [
    {
     "data": {
      "text/plain": [
       "GridSearchCV(cv=StratifiedKFold(n_splits=10, random_state=None, shuffle=True),\n",
       "             estimator=Pipeline(steps=[('countvec',\n",
       "                                        CountVectorizer(stop_words=['i', 'me',\n",
       "                                                                    'my',\n",
       "                                                                    'myself',\n",
       "                                                                    'we', 'our',\n",
       "                                                                    'ours',\n",
       "                                                                    'ourselves',\n",
       "                                                                    'you',\n",
       "                                                                    \"you're\",\n",
       "                                                                    \"you've\",\n",
       "                                                                    \"you'll\",\n",
       "                                                                    \"you'd\",\n",
       "                                                                    'your',\n",
       "                                                                    'yours',\n",
       "                                                                    'yourself',\n",
       "                                                                    'yourselves',\n",
       "                                                                    'he', 'him',\n",
       "                                                                    'his',\n",
       "                                                                    'himself',\n",
       "                                                                    'she',\n",
       "                                                                    \"she's\",\n",
       "                                                                    'her',\n",
       "                                                                    'hers',\n",
       "                                                                    'herself',\n",
       "                                                                    'it',\n",
       "                                                                    \"it's\",\n",
       "                                                                    'its',\n",
       "                                                                    'itself', ...])),\n",
       "                                       ('tfidf', TfidfTransformer()),\n",
       "                                       ('naivebayes', MultinomialNB())]),\n",
       "             n_jobs=-1,\n",
       "             param_grid={'countvec__binary': (True, False),\n",
       "                         'countvec__max_df': (0.9, 0.98),\n",
       "                         'countvec__min_df': (0.001, 0.002, 0.003),\n",
       "                         'countvec__ngram_range': ((1, 1), (1, 2)),\n",
       "                         'tfidf__use_idf': (True, False)})"
      ]
     },
     "execution_count": 8,
     "metadata": {},
     "output_type": "execute_result"
    }
   ],
   "source": [
    "parameters = {\n",
    "    'countvec__binary': (True, False),\n",
    "    'countvec__min_df': (0.001, 0.002, 0.003),\n",
    "    'countvec__max_df': (0.90, 0.98),\n",
    "    'countvec__ngram_range': ((1, 1), (1, 2)),  # unigrams, bigrams\n",
    "    'tfidf__use_idf': (True, False)\n",
    "}\n",
    "\n",
    "pipe = Pipeline([\n",
    "    ('countvec', CountVectorizer(stop_words=nltk.corpus.stopwords.words('english'))),\n",
    "    ('tfidf', TfidfTransformer()),\n",
    "    ('naivebayes', MultinomialNB())\n",
    "])\n",
    "\n",
    "#Prepare train labels:\n",
    "n_pos_samples_train = len(pos_train_raw)\n",
    "n_neg_samples_train = len(neg_train_raw)\n",
    "y_train = np.concatenate((np.ones((n_pos_samples_train)), np.zeros((n_neg_samples_train))))\n",
    "\n",
    "stratkfold = StratifiedKFold(n_splits=10, shuffle=True)\n",
    "\n",
    "#opt = GridSearchCV(pipe, parameters, n_jobs=-1, cv = 10)\n",
    "opt = GridSearchCV(pipe, parameters, n_jobs=-1, cv = stratkfold)\n",
    "opt.fit((pos_train_raw + neg_train_raw), y_train)"
   ]
  },
  {
   "cell_type": "code",
   "execution_count": 28,
   "metadata": {},
   "outputs": [
    {
     "data": {
      "text/plain": [
       "['..\\\\models\\\\gridsearchcv.joblib']"
      ]
     },
     "execution_count": 28,
     "metadata": {},
     "output_type": "execute_result"
    }
   ],
   "source": [
    "#saving the GridSearch results:\n",
    "file_name = 'gridsearchcv.joblib'\n",
    "path = Path('../models')\n",
    "dump(opt, path / file_name)"
   ]
  },
  {
   "cell_type": "code",
   "execution_count": 25,
   "metadata": {},
   "outputs": [
    {
     "data": {
      "text/plain": [
       "Pipeline(steps=[('countvec',\n",
       "                 CountVectorizer(binary=True, max_df=0.9, min_df=0.001,\n",
       "                                 ngram_range=(1, 2),\n",
       "                                 stop_words=['i', 'me', 'my', 'myself', 'we',\n",
       "                                             'our', 'ours', 'ourselves', 'you',\n",
       "                                             \"you're\", \"you've\", \"you'll\",\n",
       "                                             \"you'd\", 'your', 'yours',\n",
       "                                             'yourself', 'yourselves', 'he',\n",
       "                                             'him', 'his', 'himself', 'she',\n",
       "                                             \"she's\", 'her', 'hers', 'herself',\n",
       "                                             'it', \"it's\", 'its', 'itself', ...])),\n",
       "                ('tfidf', TfidfTransformer()),\n",
       "                ('naivebayes', MultinomialNB())])"
      ]
     },
     "execution_count": 25,
     "metadata": {},
     "output_type": "execute_result"
    }
   ],
   "source": [
    "opt.best_estimator_"
   ]
  },
  {
   "cell_type": "code",
   "execution_count": 26,
   "metadata": {},
   "outputs": [
    {
     "data": {
      "text/plain": [
       "{'countvec__binary': True,\n",
       " 'countvec__max_df': 0.9,\n",
       " 'countvec__min_df': 0.001,\n",
       " 'countvec__ngram_range': (1, 2),\n",
       " 'tfidf__use_idf': True}"
      ]
     },
     "execution_count": 26,
     "metadata": {},
     "output_type": "execute_result"
    }
   ],
   "source": [
    "opt.best_params_"
   ]
  },
  {
   "cell_type": "code",
   "execution_count": 27,
   "metadata": {},
   "outputs": [
    {
     "data": {
      "text/plain": [
       "0.8732800000000001"
      ]
     },
     "execution_count": 27,
     "metadata": {},
     "output_type": "execute_result"
    }
   ],
   "source": [
    "opt.best_score_"
   ]
  },
  {
   "cell_type": "code",
   "execution_count": 12,
   "metadata": {},
   "outputs": [],
   "source": [
    "#loading the GridSearch results:\n",
    "opt = load(Path('../models') / file_name)"
   ]
  },
  {
   "cell_type": "markdown",
   "metadata": {},
   "source": [
    "Testing the best params on test set (out of sample performance estimation):"
   ]
  },
  {
   "cell_type": "code",
   "execution_count": 29,
   "metadata": {},
   "outputs": [
    {
     "name": "stdout",
     "output_type": "stream",
     "text": [
      "Precision: 0.8713\n",
      "Recall: 0.8656\n",
      "Accuracy: 0.8689\n"
     ]
    }
   ],
   "source": [
    "#Prepare test labels:\n",
    "n_pos_samples_test = len(pos_test_raw)\n",
    "n_neg_samples_test = len(neg_test_raw)\n",
    "y_test = np.concatenate((np.ones((n_pos_samples_test)), np.zeros((n_neg_samples_test))))\n",
    "y_pred = opt.best_estimator_.predict(pos_test_raw + neg_test_raw)\n",
    "\n",
    "print('Precision: {}'.format(np.round(precision_score(y_test, y_pred), decimals=4)))\n",
    "print('Recall: {}'.format(np.round(recall_score(y_test, y_pred), decimals=4)))\n",
    "print('Accuracy: {}'.format(np.round(accuracy_score(y_test, y_pred), decimals=4)))"
   ]
  },
  {
   "cell_type": "markdown",
   "metadata": {},
   "source": [
    "<a id='numbersamples'></a>\n",
    "## Study - number of samples\n",
    "Here we are interested in the estimation of the number of samples needed to build a predictive model within this problem domain. We will plot the learning curve."
   ]
  },
  {
   "cell_type": "code",
   "execution_count": 30,
   "metadata": {},
   "outputs": [],
   "source": [
    "#Best params from GridSearchCV:\n",
    "word_occur = True\n",
    "use_idf = True\n",
    "min_df=0.001\n",
    "max_df=0.9\n",
    "ngram_range = (1, 2)\n",
    "\n",
    "#Separating the Pipeline because we would have to fit the raw data every iteration of the learning curve plotting otherwise.\n",
    "countvec = CountVectorizer(stop_words=nltk.corpus.stopwords.words('english'), binary=word_occur, min_df=min_df, max_df=max_df, ngram_range=ngram_range)\n",
    "tfidf = TfidfTransformer(use_idf=use_idf)\n",
    "naivebayes = MultinomialNB()"
   ]
  },
  {
   "cell_type": "code",
   "execution_count": 31,
   "metadata": {},
   "outputs": [],
   "source": [
    "X = countvec.fit_transform(pos_train_raw + pos_test_raw + neg_train_raw + neg_test_raw)\n",
    "X = tfidf.fit_transform(X)\n",
    "\n",
    "#Prepare train labels (train data + test data):\n",
    "n_pos_samples = len(pos_train_raw + pos_test_raw)\n",
    "n_neg_samples = len(neg_train_raw + neg_test_raw)\n",
    "y = np.concatenate((np.ones((n_pos_samples)), np.zeros((n_neg_samples))))"
   ]
  },
  {
   "cell_type": "code",
   "execution_count": 32,
   "metadata": {},
   "outputs": [
    {
     "data": {
      "text/plain": [
       "<module 'matplotlib' from 'C:\\\\ProgramData\\\\Anaconda3\\\\envs\\\\movie-sentiment-analysis\\\\lib\\\\site-packages\\\\matplotlib\\\\__init__.py'>"
      ]
     },
     "execution_count": 32,
     "metadata": {},
     "output_type": "execute_result"
    },
    {
     "data": {
      "image/png": "[encoded data removed]",
      "text/plain": [
       "<Figure size 720x1080 with 3 Axes>"
      ]
     },
     "metadata": {
      "needs_background": "light"
     },
     "output_type": "display_data"
    }
   ],
   "source": [
    "fig, axes = plt.subplots(3, 1, figsize=(10, 15))\n",
    "\n",
    "title = \"Learning Curves (Multinomial Naive Bayes)\"\n",
    "# Cross validation with 100 iterations to get smoother mean test and train\n",
    "# score curves, each time with 20% data randomly selected as a validation set.\n",
    "cv = StratifiedShuffleSplit(n_splits=100, test_size=0.2, random_state=0)\n",
    "\n",
    "plot_learning_curve(naivebayes, title, X, y, axes=axes[:], ylim=(0.7, 1.01), cv=cv, n_jobs=4, shuffle=True)"
   ]
  },
  {
   "cell_type": "markdown",
   "metadata": {},
   "source": [
    "As we can see, there is not much improvement after around 15000 samples. So, if we are in a situation of few samples within this problem domain, and the cost of getting more samples is high, this estimation helps us to understand the need of more data."
   ]
  },
  {
   "cell_type": "code",
   "execution_count": null,
   "metadata": {},
   "outputs": [],
   "source": []
  },
  {
   "cell_type": "code",
   "execution_count": null,
   "metadata": {},
   "outputs": [],
   "source": []
  },
  {
   "cell_type": "markdown",
   "metadata": {},
   "source": [
    "Extra: custom tokenizer"
   ]
  },
  {
   "cell_type": "code",
   "execution_count": 23,
   "metadata": {},
   "outputs": [],
   "source": [
    "def my_tokenizer(text):\n",
    "    #tokens = nltk.word_tokenize(text) #separates words like \"hasn't\" in [\"has\", \"n't'\"], and messes up the removal of stop words\n",
    "    token_pattern = r\"(?u)\\b\\w\\w+\\b\"\n",
    "    #token_pattern = r'\\b\\w+\\b'\n",
    "    tokens = re.findall(token_pattern, text)\n",
    "    #wn = WordNetLemmatizer()\n",
    "    #out = [wn.lemmatize(token) for token in tokens]\n",
    "    #stemer = PorterStemmer()\n",
    "    #out = [stemer.stem(token) for token in tokens]\n",
    "    return tokens"
   ]
  },
  {
   "cell_type": "code",
   "execution_count": 24,
   "metadata": {
    "scrolled": false
   },
   "outputs": [],
   "source": [
    "countvec = CountVectorizer(stop_words=nltk.corpus.stopwords.words('english'), binary=False, \n",
    "                          lowercase=True, tokenizer=my_tokenizer).fit(pos_train_raw + neg_train_raw)"
   ]
  },
  {
   "cell_type": "code",
   "execution_count": null,
   "metadata": {},
   "outputs": [],
   "source": []
  }
 ],
 "metadata": {
  "kernelspec": {
   "display_name": "Python 3",
   "language": "python",
   "name": "python3"
  },
  "language_info": {
   "codemirror_mode": {
    "name": "ipython",
    "version": 3
   },
   "file_extension": ".py",
   "mimetype": "text/x-python",
   "name": "python",
   "nbconvert_exporter": "python",
   "pygments_lexer": "ipython3",
   "version": "3.7.8"
  }
 },
 "nbformat": 4,
 "nbformat_minor": 4
}
